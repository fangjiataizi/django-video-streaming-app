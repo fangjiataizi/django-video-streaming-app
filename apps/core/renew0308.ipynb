{
 "cells": [
  {
   "cell_type": "code",
   "execution_count": 1,
   "id": "562911e9",
   "metadata": {},
   "outputs": [],
   "source": [
    "import cv2\n",
    "import numpy as np\n",
    "import time\n",
    "import glob\n",
    "import matplotlib.pyplot as plt\n",
    "import os\n",
    "import time"
   ]
  },
  {
   "cell_type": "code",
   "execution_count": 2,
   "id": "45f20db5",
   "metadata": {},
   "outputs": [],
   "source": [
    "def algo(v_path):\n",
    "    \n",
    "    files = glob.glob('02_intermediate/*')\n",
    "    for f in files:\n",
    "        os.remove(f)\n",
    "    \n",
    "    cap = cv2.VideoCapture(\"01_org_video/{}\".format(v_path))\n",
    "    frame_count = cap.get(cv2.CAP_PROP_FRAME_COUNT)\n",
    "    print(frame_count)\n",
    "    \n",
    "    img_array = []\n",
    "    for i in range(int(frame_count)):\n",
    "        _,img = cap.read(i)\n",
    "        img = cv2.cvtColor(img, cv2.COLOR_BGR2GRAY)\n",
    "        \n",
    "        s = int(round(img.shape[0]/600,1)*10)\n",
    "        filterSize =(s, s) \n",
    "        kernel = cv2.getStructuringElement(cv2.MORPH_RECT, filterSize) \n",
    "        tophat_img = cv2.morphologyEx(img, cv2.MORPH_TOPHAT, kernel) \n",
    "\n",
    "        kernelx = np.array([[1,1,1],[0,0,0],[-1,-1,-1]],dtype=int)\n",
    "        kernely = np.array([[-1,0,1],[-1,0,1],[-1,0,1]],dtype=int)\n",
    "        x = cv2.filter2D(tophat_img, cv2.CV_16S, kernelx)\n",
    "        y = cv2.filter2D(tophat_img, cv2.CV_16S, kernely)\n",
    "        absX = cv2.convertScaleAbs(x) \n",
    "        absY = cv2.convertScaleAbs(y) \n",
    "        Prewitt = cv2.addWeighted(absX,0.5,absY,0.5,0)\n",
    "        \n",
    "        img_array.append(cv2.cvtColor(Prewitt, cv2.COLOR_GRAY2BGR))\n",
    "    \n",
    "\n",
    "    size = (Prewitt.shape[1], Prewitt.shape[0])\n",
    "    out = cv2.VideoWriter('03_output/V_{}_processed.avi'.format(v_path.split(\".\")[0]),cv2.VideoWriter_fourcc(*'DIVX'), 10, size)\n",
    "    for i in range(len(img_array)):\n",
    "        out.write(img_array[i])\n",
    "    out.release()\n",
    "\n",
    "    video_path = '03_output/V_{}_processed.avi'.format(v_path.split(\".\")[0])\n",
    "    cap = cv2.VideoCapture(video_path)\n",
    "    width =int(cap.get(cv2.CAP_PROP_FRAME_WIDTH))\n",
    "    height =int(cap.get(cv2.CAP_PROP_FRAME_HEIGHT))\n",
    "    one_frame = np.zeros((height,width),dtype=np.uint8)\n",
    "    two_frame = np.zeros((height,width),dtype=np.uint8)\n",
    "    three_frame = np.zeros((height,width),dtype=np.uint8)\n",
    "\n",
    "    II = np.zeros((height,width,3),dtype=np.uint8)\n",
    "    \n",
    "    for k in range(int(frame_count)):\n",
    "        ret,frame = cap.read()\n",
    "        frame_gray =cv2.cvtColor(frame,cv2.COLOR_BGR2GRAY)\n",
    "        if not ret:\n",
    "            break\n",
    "        one_frame,two_frame,three_frame = two_frame,three_frame,frame_gray\n",
    "        abs1 = cv2.absdiff(one_frame,two_frame)\n",
    "        _,thresh1 = cv2.threshold(abs1,15,555,cv2.THRESH_BINARY)\n",
    "        abs2 =cv2.absdiff(two_frame,three_frame)\n",
    "        _,thresh2 =cv2.threshold(abs2,15,555,cv2.THRESH_BINARY)\n",
    "        \n",
    "        binary1 = cv2.bitwise_or(thresh1,thresh2)\n",
    "        cv2.imwrite(\"02_intermediate/tt_{}.jpg\".format(k), binary1)\n",
    "    \n",
    "    for k in range(int(frame_count)):\n",
    "        II += cv2.imread(\"02_intermediate/tt_{}.jpg\".format(k))\n",
    "        \n",
    "    cv2.imwrite(\"03_output/P_{}.jpg\".format(v_path), II)\n",
    "    cap.release()\n",
    "    cv2.destroyAllWindows()"
   ]
  },
  {
   "cell_type": "code",
   "execution_count": 3,
   "id": "cab3cce2",
   "metadata": {},
   "outputs": [
    {
     "name": "stdout",
     "output_type": "stream",
     "text": [
      "400.0\n",
      "2.172616958618164\n"
     ]
    }
   ],
   "source": [
    "v_path = \"五矿1.avi\"\n",
    "t1 = time.time()\n",
    "algo(v_path)\n",
    "t2 = time.time()\n",
    "print(t2 - t1)"
   ]
  }
 ],
 "metadata": {
  "kernelspec": {
   "display_name": "Python 3 (ipykernel)",
   "language": "python",
   "name": "python3"
  },
  "language_info": {
   "codemirror_mode": {
    "name": "ipython",
    "version": 3
   },
   "file_extension": ".py",
   "mimetype": "text/x-python",
   "name": "python",
   "nbconvert_exporter": "python",
   "pygments_lexer": "ipython3",
   "version": "3.9.12"
  }
 },
 "nbformat": 4,
 "nbformat_minor": 5
}
